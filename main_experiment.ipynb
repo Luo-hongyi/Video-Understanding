{
 "cells": [
  {
   "cell_type": "code",
   "execution_count": 1,
   "metadata": {},
   "outputs": [],
   "source": [
    "from classes.EventFactory import Event, EventFactory",
    "from classes.TargetFactory import Target, TargetFactory",
    "from classes.Segment import Segment",
    "",
    "#Initialize factories",
    "video_name = \"accident1\"",
    "",
    "event_factory = EventFactory.from_config(f\"{video_name}/configs/event_factory_config.json\")",
    "target_factory = TargetFactory.from_config(f\"{video_name}/configs/target_factory_config.json\")"
   ]
  },
  {
   "cell_type": "code",
   "execution_count": null,
   "metadata": {},
   "outputs": [],
   "source": [
    "from ultralytics import YOLO",
    "#Initialize YOLO model",
    "yolo_model = YOLO(\"yolov8s-world.pt\")",
    "yolo_model.set_classes(target_factory.get_valid_labels())"
   ]
  },
  {
   "cell_type": "code",
   "execution_count": null,
   "metadata": {},
   "outputs": [],
   "source": [
    "from modules import ExtractFrames",
    "",
    "#Read video and save keyframes to frames_cache; return paths",
    "video_path = \"traffic_accident.mov\"",
    "",
    "",
    "frames_path = ExtractFrames.extract_frames(video_path, f\"{video_name}/frames_cache\", interval = 0.5)"
   ]
  },
  {
   "cell_type": "code",
   "execution_count": null,
   "metadata": {},
   "outputs": [],
   "source": [
    "from modules import AnnotateFrames",
    "from tools.GetAllPaths import get_all_file_paths",
    "",
    "annotated_frames_path = []",
    "frames_path = get_all_file_paths(f\"{video_name}/frames_cache\")",
    "",
    "#Run YOLO per frame to annotate ROIs; this may not improve accuracy and can harm scene understanding",
    "for frame_path in frames_path:",
    "annotated_frames_path.append(AnnotateFrames.annotate_frame(frame_path=frame_path, yolo_model=yolo_model, output_dir=f\"{video_name}/annotated_frames_cache\", conf= 0.2))"
   ]
  },
  {
   "cell_type": "code",
   "execution_count": null,
   "metadata": {},
   "outputs": [],
   "source": [
    "from modules import SegmentGeneration",
    "",
    "#Pack annotated frames into Segment list",
    "segments = SegmentGeneration.generate_segments(f\"{video_name}/annotated_frames_cache\")"
   ]
  },
  {
   "cell_type": "code",
   "execution_count": null,
   "metadata": {},
   "outputs": [],
   "source": [
    "from modules import SegmentGeneration",
    "",
    "#Pack unannotated frames into Segment list",
    "segments = SegmentGeneration.generate_segments(f\"{video_name}/frames_cache\")"
   ]
  },
  {
   "cell_type": "code",
   "execution_count": 2,
   "metadata": {},
   "outputs": [],
   "source": [
    "from modules import SegmentGenerationV2",
    "",
    "#Special pack: overlapping segments with 20% overlap。",
    "segments = SegmentGenerationV2.generate_segments(f\"{video_name}/frames_cache\", frames_per_segment=20, overlap_ratio= 0.2)"
   ]
  },
  {
   "cell_type": "code",
   "execution_count": null,
   "metadata": {},
   "outputs": [],
   "source": [
    "from modules import SegmentAnalyze",
    "",
    "#Parallel analysis: faster but less accurate; merging needs frames",
    "segment_list = [segments[0]]",
    "SegmentAnalyze.batch_process_segments(target_factory=target_factory, event_factory=event_factory, segments=segment_list, video_name=video_name)"
   ]
  },
  {
   "cell_type": "code",
   "execution_count": null,
   "metadata": {},
   "outputs": [],
   "source": [
    "from modules import SegmentAnalyzeV2",
    "",
    "#Serial analysis: slower but more accurate; merging doesn't need frames",
    "segment_list = segments[30:]",
    "SegmentAnalyzeV2.process_segments_serially(target_factory=target_factory, event_factory=event_factory, segments=segment_list, video_name=video_name, subsection_interval=60)"
   ]
  },
  {
   "cell_type": "code",
   "execution_count": null,
   "metadata": {},
   "outputs": [],
   "source": [
    "from IPython.display import Image, display",
    "import base64",
    "",
    "# For testing: show segment images",
    "def show_base64_image(base64_string):",
    "display(Image(data=base64.b64decode(base64_string)))",
    "",
    "for image in segments[31].get_images():",
    "show_base64_image(image)"
   ]
  },
  {
   "cell_type": "code",
   "execution_count": 3,
   "metadata": {},
   "outputs": [],
   "source": [
    "from modules import FillSegments",
    "",
    "# Fill segments from JSON files",
    "FillSegments.fill_segments(segments, event_factory, target_factory, video_name)"
   ]
  },
  {
   "cell_type": "code",
   "execution_count": null,
   "metadata": {},
   "outputs": [],
   "source": [
    "# For testing: print segment info",
    "print(segments[3].events[2])"
   ]
  },
  {
   "cell_type": "code",
   "execution_count": 4,
   "metadata": {},
   "outputs": [],
   "source": [
    "from classes.StoryTree import StoryPool",
    "",
    "# Build story pool",
    "story_pool = StoryPool(segments)"
   ]
  },
  {
   "cell_type": "code",
   "execution_count": null,
   "metadata": {},
   "outputs": [],
   "source": [
    "str(story_pool.print_story_lines())"
   ]
  },
  {
   "cell_type": "code",
   "execution_count": null,
   "metadata": {},
   "outputs": [],
   "source": [
    "from modules import Load",
    "",
    "# Load as LangChain RAG documents",
    "story_docs = Load.load_stories(story_pool)",
    "event_docs = Load.load_events(segments)",
    "target_docs = Load.load_targets(segments)",
    "segment_docs = Load.load_segments(segments)"
   ]
  },
  {
   "cell_type": "code",
   "execution_count": null,
   "metadata": {},
   "outputs": [],
   "source": [
    "for doc in story_docs:",
    "print(doc.page_content)"
   ]
  },
  {
   "cell_type": "code",
   "execution_count": null,
   "metadata": {},
   "outputs": [],
   "source": [
    "from classes.VectorStore import VectorStore",
    "",
    "vector_store = VectorStore(segment_docs=segment_docs, event_docs=event_docs, target_docs=target_docs, story_docs=story_docs)"
   ]
  },
  {
   "cell_type": "code",
   "execution_count": null,
   "metadata": {},
   "outputs": [],
   "source": [
    "result = vector_store.search_story(\"accident\",top_k=1)"
   ]
  },
  {
   "cell_type": "code",
   "execution_count": null,
   "metadata": {},
   "outputs": [],
   "source": [
    "print(result[0].metadata.get(\"whole_story\"))"
   ]
  }
 ],
 "metadata": {
  "kernelspec": {
   "display_name": "py310",
   "language": "python",
   "name": "python3"
  },
  "language_info": {
   "codemirror_mode": {
    "name": "ipython",
    "version": 3
   },
   "file_extension": ".py",
   "mimetype": "text/x-python",
   "name": "python",
   "nbconvert_exporter": "python",
   "pygments_lexer": "ipython3",
   "version": "3.10.14"
  }
 },
 "nbformat": 4,
 "nbformat_minor": 2
}