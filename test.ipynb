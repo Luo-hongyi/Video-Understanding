{
 "cells": [
  {
   "cell_type": "code",
   "execution_count": null,
   "metadata": {},
   "outputs": [
    {
     "name": "stdout",
     "output_type": "stream",
     "text": [
      "[{'status': 200}, {'status': 200}]\n"
     ]
    }
   ],
   "source": [
    "from concurrent.futures import ThreadPoolExecutor",
    "import threading",
    "# from classes.Segment import Segment #",
    "from openai import OpenAI",
    "import json",
    "from openai import OpenAIError",
    "import time",
    "",
    "# OpenAI",
    "openai_model = OpenAI(api_key=\"\", base_url=\"http://localhost:8765/v1\")",
    "",
    "# ，OpenAI",
    "thread_local = threading.local()",
    "",
    "def get_openai_client():",
    "if not hasattr(thread_local, 'openai_client'):",
    "thread_local.openai_client = openai_model",
    "return thread_local.openai_client",
    "",
    "def get_response():",
    "client = get_openai_client()",
    "try:",
    "response = client.chat.completions.create(",
    "model=\"claude-3.5-sonnet\",",
    "messages=[{\"role\": \"user\", \"content\": \"JSON，Markdown:\\n{\\\"status\\\": 200 ，400 }\"}]",
    ")",
    "return json.loads(response.choices[0].message.content)",
    "except json.JSONDecodeError:",
    "return {\"status\": 500, \"error\": \"Invalid JSON response\"}",
    "except OpenAIError as e:",
    "return {\"status\": 502, \"error\": str(e)}",
    "except Exception as e:",
    "return {\"status\": 500, \"error\": str(e)}",
    "",
    "def process_segment(segment):",
    "result = get_response()",
    "time.sleep(0.1) #",
    "return result",
    "",
    "def batch_process_segments(segments, max_workers=5):",
    "with ThreadPoolExecutor(max_workers=max_workers) as executor:",
    "results = list(executor.map(process_segment, segments))",
    "return results",
    "",
    "print(batch_process_segments([1, 2])) #"
   ]
  }
 ],
 "metadata": {
  "kernelspec": {
   "display_name": "py310",
   "language": "python",
   "name": "python3"
  },
  "language_info": {
   "codemirror_mode": {
    "name": "ipython",
    "version": 3
   },
   "file_extension": ".py",
   "mimetype": "text/x-python",
   "name": "python",
   "nbconvert_exporter": "python",
   "pygments_lexer": "ipython3",
   "version": "3.10.14"
  }
 },
 "nbformat": 4,
 "nbformat_minor": 2
}