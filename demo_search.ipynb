{
 "cells": [
  {
   "cell_type": "code",
   "execution_count": null,
   "metadata": {},
   "outputs": [],
   "source": [
    "from classes.EventFactory import Event, EventFactory",
    "from classes.TargetFactory import Target, TargetFactory",
    "from classes.Segment import Segment",
    "from modules import SegmentGenerationV2",
    "from modules import FillSegments",
    "from classes.StoryTree import StoryPool",
    "from modules import Load",
    "from classes.VectorStore import VectorStore",
    "",
    "#Initialize factories",
    "video_name = \"accident1\"",
    "event_factory = EventFactory.from_config(f\"{video_name}/configs/event_factory_config.json\")",
    "target_factory = TargetFactory.from_config(f\"{video_name}/configs/target_factory_config.json\")",
    "",
    "#Special pack: overlapping segments with 20% overlap。",
    "segments = SegmentGenerationV2.generate_segments(f\"{video_name}/frames_cache\", frames_per_segment=20, overlap_ratio= 0.2)",
    "",
    "# Fill segments from JSON files",
    "FillSegments.fill_segments(segments, event_factory, target_factory, video_name)",
    "",
    "# Build story pool",
    "story_pool = StoryPool(segments)",
    "",
    "# Load as LangChain RAG documents",
    "story_docs = Load.load_stories(story_pool, use_summary=True)",
    "event_docs = Load.load_events(segments)",
    "target_docs = Load.load_targets(segments)",
    "segment_docs = Load.load_segments(segments)",
    "",
    "# Build vector store",
    "vector_store = VectorStore()",
    "vector_store.build_by_param(segment_docs=segment_docs, event_docs=event_docs, target_docs=target_docs, story_docs=story_docs)"
   ]
  },
  {
   "cell_type": "code",
   "execution_count": null,
   "metadata": {},
   "outputs": [],
   "source": [
    "# Search storylines",
    "",
    "query = \"traffic accident\"",
    "filter = {\"type\": \"accident\"}",
    "",
    "story_results = vector_store.search_story(query=query, top_k=3, rerank=True, filter=filter)",
    "",
    "for result in story_results:",
    "print(result.page_content)",
    "",
    "print(\"=========================================\")",
    "",
    "for result in story_results:",
    "print(result.metadata.get(\"whole_story\"))",
    "print(\"=========================================\")"
   ]
  },
  {
   "cell_type": "code",
   "execution_count": null,
   "metadata": {},
   "outputs": [],
   "source": [
    "# Search events",
    "",
    "query = \"accident\"",
    "event_results = vector_store.search_event(query=query, top_k=3)",
    "for result in event_results:",
    "print(result.page_content)"
   ]
  },
  {
   "cell_type": "code",
   "execution_count": null,
   "metadata": {},
   "outputs": [],
   "source": [
    "# Search targets",
    "",
    "query = \"accident\"",
    "target_results = vector_store.search_target(query=query, top_k=3)",
    "for result in target_results:",
    "print(result.page_content)"
   ]
  },
  {
   "cell_type": "code",
   "execution_count": null,
   "metadata": {},
   "outputs": [],
   "source": [
    "# Search segments",
    "",
    "query = \"accident\"",
    "segment_results = vector_store.search_segment(query=query, top_k=3)",
    "for result in segment_results:",
    "print(result.page_content)"
   ]
  },
  {
   "cell_type": "code",
   "execution_count": null,
   "metadata": {},
   "outputs": [],
   "source": [
    "# Assistant",
    "from classes.RAGAgent import Agent",
    "",
    "agent = Agent(vectorstore=vector_store, story_pool=story_pool, segments=segments, event_factory=event_factory, target_factory=target_factory)"
   ]
  },
  {
   "cell_type": "code",
   "execution_count": null,
   "metadata": {},
   "outputs": [],
   "source": [
    "# Smart search",
    "query = \"traffic accident\"",
    "mode = \"\"",
    "result = agent.search(query=query, mode=mode)"
   ]
  },
  {
   "cell_type": "code",
   "execution_count": null,
   "metadata": {},
   "outputs": [],
   "source": [
    "for message in result.get(\"messages\")[1:]:",
    "message.pretty_print()"
   ]
  }
 ],
 "metadata": {
  "kernelspec": {
   "display_name": "py310",
   "language": "python",
   "name": "python3"
  },
  "language_info": {
   "codemirror_mode": {
    "name": "ipython",
    "version": 3
   },
   "file_extension": ".py",
   "mimetype": "text/x-python",
   "name": "python",
   "nbconvert_exporter": "python",
   "pygments_lexer": "ipython3",
   "version": "3.10.14"
  }
 },
 "nbformat": 4,
 "nbformat_minor": 2
}