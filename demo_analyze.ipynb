{
 "cells": [
  {
   "cell_type": "code",
   "execution_count": null,
   "metadata": {},
   "outputs": [],
   "source": [
    "from classes.EventFactory import Event, EventFactory",
    "from classes.TargetFactory import Target, TargetFactory",
    "from classes.Segment import Segment",
    "from modules import SegmentGenerationV2",
    "from modules import FillSegments",
    "from classes.StoryTree import StoryPool",
    "from modules import Load",
    "from classes.VectorStore import VectorStore",
    "from modules import ExtractFrames",
    "",
    "#Initialize factories",
    "video_name = \"accident2\"",
    "event_factory = EventFactory.from_config(f\"{video_name}/configs/event_factory_config.json\")",
    "target_factory = TargetFactory.from_config(f\"{video_name}/configs/target_factory_config.json\")",
    "",
    "#Read video and save keyframes to frames_cache; return paths",
    "video_path = \"traffic_accident.mov\"",
    "frames_path = ExtractFrames.extract_frames(video_path, f\"{video_name}/frames_cache\", interval = 0.5)",
    "",
    "#Special pack: overlapping segments with 20% overlap。",
    "segments = SegmentGenerationV2.generate_segments(f\"{video_name}/frames_cache\", frames_per_segment=20, overlap_ratio= 0.2)"
   ]
  },
  {
   "cell_type": "code",
   "execution_count": null,
   "metadata": {},
   "outputs": [],
   "source": [
    "from modules import SegmentAnalyzeV2",
    "",
    "#，。",
    "segment_list = segments",
    "SegmentAnalyzeV2.process_segments_serially(target_factory=target_factory, #",
    "event_factory=event_factory, #",
    "segments=segment_list, #",
    "video_name=video_name, #",
    "subsection_interval=60 #，60，",
    ")"
   ]
  }
 ],
 "metadata": {
  "language_info": {
   "name": "python"
  }
 },
 "nbformat": 4,
 "nbformat_minor": 2
}